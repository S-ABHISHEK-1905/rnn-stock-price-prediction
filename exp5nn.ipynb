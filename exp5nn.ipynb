{
  "nbformat": 4,
  "nbformat_minor": 0,
  "metadata": {
    "colab": {
      "provenance": [],
      "authorship_tag": "ABX9TyO5tATQgrIgdQYOWHe54W+E",
      "include_colab_link": true
    },
    "kernelspec": {
      "name": "python3",
      "display_name": "Python 3"
    },
    "language_info": {
      "name": "python"
    }
  },
  "cells": [
    {
      "cell_type": "markdown",
      "metadata": {
        "id": "view-in-github",
        "colab_type": "text"
      },
      "source": [
        "<a href=\"https://colab.research.google.com/github/S-ABHISHEK-1905/rnn-stock-price-prediction/blob/main/exp5nn.ipynb\" target=\"_parent\"><img src=\"https://colab.research.google.com/assets/colab-badge.svg\" alt=\"Open In Colab\"/></a>"
      ]
    },
    {
      "cell_type": "code",
      "execution_count": 23,
      "metadata": {
        "id": "oDaqLMeC9ZTz"
      },
      "outputs": [],
      "source": [
        "import numpy as np\n",
        "import matplotlib.pyplot as plt\n",
        "import pandas as pd\n",
        "from sklearn.preprocessing import MinMaxScaler\n",
        "from keras import layers\n",
        "from keras.models import Sequential\n",
        "from tensorflow.keras import models\n",
        "from tensorflow.keras import layers\n",
        "\n"
      ]
    },
    {
      "cell_type": "code",
      "source": [
        "dataset_train = pd.read_csv('/content/trainset (1).csv')\n",
        "dataset_train.columns\n",
        "dataset_train.head()\n",
        "train_set = dataset_train.iloc[:,1:2].values\n",
        "type(train_set)\n",
        "train_set.shape\n"
      ],
      "metadata": {
        "colab": {
          "base_uri": "https://localhost:8080/"
        },
        "id": "mdviFBZw9v36",
        "outputId": "a299056e-cfca-4e63-e35d-958bbaa13ee8"
      },
      "execution_count": 24,
      "outputs": [
        {
          "output_type": "execute_result",
          "data": {
            "text/plain": [
              "(1259, 1)"
            ]
          },
          "metadata": {},
          "execution_count": 24
        }
      ]
    },
    {
      "cell_type": "code",
      "source": [
        "sc = MinMaxScaler(feature_range=(0,1))\n",
        "training_set_scaled = sc.fit_transform(train_set)\n",
        "training_set_scaled.shape\n",
        "\n"
      ],
      "metadata": {
        "colab": {
          "base_uri": "https://localhost:8080/"
        },
        "id": "zvrOMV3D9yzn",
        "outputId": "d7482fd2-fcef-40a4-9e5d-236bd6e45db1"
      },
      "execution_count": 25,
      "outputs": [
        {
          "output_type": "execute_result",
          "data": {
            "text/plain": [
              "(1259, 1)"
            ]
          },
          "metadata": {},
          "execution_count": 25
        }
      ]
    },
    {
      "cell_type": "code",
      "source": [
        "X_train_array = []\n",
        "y_train_array = []\n",
        "for i in range(60, 1259):\n",
        "    X_train_array.append(training_set_scaled[i-60:i,0])\n",
        "    y_train_array.append(training_set_scaled[i,0])\n",
        "\n",
        "X_train, y_train = np.array(X_train_array), np.array(y_train_array)\n",
        "X_train1 = X_train.reshape((X_train.shape[0], X_train.shape[1],1))\n",
        "X_train.shape\n",
        "\n"
      ],
      "metadata": {
        "colab": {
          "base_uri": "https://localhost:8080/"
        },
        "id": "Gk4kzYgw904b",
        "outputId": "5b1425ca-50af-4e8e-984b-2e4b0c3b2fc3"
      },
      "execution_count": 26,
      "outputs": [
        {
          "output_type": "execute_result",
          "data": {
            "text/plain": [
              "(1199, 60)"
            ]
          },
          "metadata": {},
          "execution_count": 26
        }
      ]
    },
    {
      "cell_type": "code",
      "source": [
        "length = 60\n",
        "n_features = 1\n",
        "\n",
        "model = models.Sequential()\n",
        "model.add(layers.SimpleRNN(10,input_shape=(length,n_features)))\n",
        "model.add(layers.Dense(1))\n",
        "\n",
        "model.compile(optimizer='rmsprop', loss='mse',metrics ='accuracy')\n",
        "\n"
      ],
      "metadata": {
        "id": "a863iu5T93nx"
      },
      "execution_count": 29,
      "outputs": []
    },
    {
      "cell_type": "code",
      "source": [
        "model.summary()\n",
        "\n"
      ],
      "metadata": {
        "colab": {
          "base_uri": "https://localhost:8080/"
        },
        "id": "g_Ftm8qB952b",
        "outputId": "2d496dee-a481-45b1-9e46-b851eba062b0"
      },
      "execution_count": 30,
      "outputs": [
        {
          "output_type": "stream",
          "name": "stdout",
          "text": [
            "Model: \"sequential_4\"\n",
            "_________________________________________________________________\n",
            " Layer (type)                Output Shape              Param #   \n",
            "=================================================================\n",
            " simple_rnn_4 (SimpleRNN)    (None, 10)                120       \n",
            "                                                                 \n",
            " dense_4 (Dense)             (None, 1)                 11        \n",
            "                                                                 \n",
            "=================================================================\n",
            "Total params: 131 (524.00 Byte)\n",
            "Trainable params: 131 (524.00 Byte)\n",
            "Non-trainable params: 0 (0.00 Byte)\n",
            "_________________________________________________________________\n"
          ]
        }
      ]
    },
    {
      "cell_type": "code",
      "source": [
        "model.fit(X_train1,y_train,epochs=100, batch_size=64)\n",
        "\n"
      ],
      "metadata": {
        "colab": {
          "base_uri": "https://localhost:8080/"
        },
        "id": "cwOp4DOy978b",
        "outputId": "5410dc55-c6d7-4063-95fb-5f0b0eab004b"
      },
      "execution_count": 31,
      "outputs": [
        {
          "output_type": "stream",
          "name": "stdout",
          "text": [
            "Epoch 1/100\n",
            "19/19 [==============================] - 1s 12ms/step - loss: 0.2426 - accuracy: 0.0000e+00\n",
            "Epoch 2/100\n",
            "19/19 [==============================] - 0s 11ms/step - loss: 0.0338 - accuracy: 0.0000e+00\n",
            "Epoch 3/100\n",
            "19/19 [==============================] - 0s 12ms/step - loss: 0.0098 - accuracy: 8.3403e-04\n",
            "Epoch 4/100\n",
            "19/19 [==============================] - 0s 11ms/step - loss: 0.0043 - accuracy: 8.3403e-04\n",
            "Epoch 5/100\n",
            "19/19 [==============================] - 0s 11ms/step - loss: 0.0031 - accuracy: 8.3403e-04\n",
            "Epoch 6/100\n",
            "19/19 [==============================] - 0s 11ms/step - loss: 0.0021 - accuracy: 8.3403e-04\n",
            "Epoch 7/100\n",
            "19/19 [==============================] - 0s 10ms/step - loss: 0.0018 - accuracy: 8.3403e-04\n",
            "Epoch 8/100\n",
            "19/19 [==============================] - 0s 13ms/step - loss: 0.0017 - accuracy: 8.3403e-04\n",
            "Epoch 9/100\n",
            "19/19 [==============================] - 0s 11ms/step - loss: 0.0017 - accuracy: 8.3403e-04\n",
            "Epoch 10/100\n",
            "19/19 [==============================] - 0s 11ms/step - loss: 0.0015 - accuracy: 8.3403e-04\n",
            "Epoch 11/100\n",
            "19/19 [==============================] - 0s 10ms/step - loss: 0.0016 - accuracy: 8.3403e-04\n",
            "Epoch 12/100\n",
            "19/19 [==============================] - 0s 11ms/step - loss: 0.0014 - accuracy: 8.3403e-04\n",
            "Epoch 13/100\n",
            "19/19 [==============================] - 0s 11ms/step - loss: 0.0015 - accuracy: 8.3403e-04\n",
            "Epoch 14/100\n",
            "19/19 [==============================] - 1s 31ms/step - loss: 0.0014 - accuracy: 8.3403e-04\n",
            "Epoch 15/100\n",
            "19/19 [==============================] - 0s 12ms/step - loss: 0.0015 - accuracy: 8.3403e-04\n",
            "Epoch 16/100\n",
            "19/19 [==============================] - 0s 11ms/step - loss: 0.0015 - accuracy: 8.3403e-04\n",
            "Epoch 17/100\n",
            "19/19 [==============================] - 0s 26ms/step - loss: 0.0014 - accuracy: 8.3403e-04\n",
            "Epoch 18/100\n",
            "19/19 [==============================] - 0s 17ms/step - loss: 0.0013 - accuracy: 8.3403e-04\n",
            "Epoch 19/100\n",
            "19/19 [==============================] - 0s 10ms/step - loss: 0.0013 - accuracy: 8.3403e-04\n",
            "Epoch 20/100\n",
            "19/19 [==============================] - 0s 10ms/step - loss: 0.0013 - accuracy: 8.3403e-04\n",
            "Epoch 21/100\n",
            "19/19 [==============================] - 0s 24ms/step - loss: 0.0014 - accuracy: 8.3403e-04\n",
            "Epoch 22/100\n",
            "19/19 [==============================] - 0s 23ms/step - loss: 0.0012 - accuracy: 8.3403e-04\n",
            "Epoch 23/100\n",
            "19/19 [==============================] - 0s 17ms/step - loss: 0.0013 - accuracy: 8.3403e-04\n",
            "Epoch 24/100\n",
            "19/19 [==============================] - 0s 15ms/step - loss: 0.0012 - accuracy: 8.3403e-04\n",
            "Epoch 25/100\n",
            "19/19 [==============================] - 0s 17ms/step - loss: 0.0012 - accuracy: 8.3403e-04\n",
            "Epoch 26/100\n",
            "19/19 [==============================] - 0s 17ms/step - loss: 0.0013 - accuracy: 8.3403e-04\n",
            "Epoch 27/100\n",
            "19/19 [==============================] - 0s 17ms/step - loss: 0.0011 - accuracy: 8.3403e-04\n",
            "Epoch 28/100\n",
            "19/19 [==============================] - 0s 19ms/step - loss: 0.0011 - accuracy: 8.3403e-04\n",
            "Epoch 29/100\n",
            "19/19 [==============================] - 0s 17ms/step - loss: 0.0012 - accuracy: 8.3403e-04\n",
            "Epoch 30/100\n",
            "19/19 [==============================] - 0s 16ms/step - loss: 0.0012 - accuracy: 8.3403e-04\n",
            "Epoch 31/100\n",
            "19/19 [==============================] - 0s 14ms/step - loss: 0.0010 - accuracy: 8.3403e-04\n",
            "Epoch 32/100\n",
            "19/19 [==============================] - 0s 11ms/step - loss: 0.0011 - accuracy: 8.3403e-04\n",
            "Epoch 33/100\n",
            "19/19 [==============================] - 0s 11ms/step - loss: 0.0013 - accuracy: 8.3403e-04\n",
            "Epoch 34/100\n",
            "19/19 [==============================] - 0s 11ms/step - loss: 0.0011 - accuracy: 8.3403e-04\n",
            "Epoch 35/100\n",
            "19/19 [==============================] - 0s 11ms/step - loss: 0.0010 - accuracy: 8.3403e-04\n",
            "Epoch 36/100\n",
            "19/19 [==============================] - 0s 12ms/step - loss: 0.0012 - accuracy: 8.3403e-04\n",
            "Epoch 37/100\n",
            "19/19 [==============================] - 0s 11ms/step - loss: 0.0011 - accuracy: 8.3403e-04\n",
            "Epoch 38/100\n",
            "19/19 [==============================] - 0s 11ms/step - loss: 0.0011 - accuracy: 8.3403e-04\n",
            "Epoch 39/100\n",
            "19/19 [==============================] - 0s 11ms/step - loss: 0.0010 - accuracy: 8.3403e-04\n",
            "Epoch 40/100\n",
            "19/19 [==============================] - 0s 12ms/step - loss: 9.7800e-04 - accuracy: 8.3403e-04\n",
            "Epoch 41/100\n",
            "19/19 [==============================] - 0s 10ms/step - loss: 0.0011 - accuracy: 8.3403e-04\n",
            "Epoch 42/100\n",
            "19/19 [==============================] - 0s 11ms/step - loss: 9.7855e-04 - accuracy: 8.3403e-04\n",
            "Epoch 43/100\n",
            "19/19 [==============================] - 0s 10ms/step - loss: 0.0010 - accuracy: 8.3403e-04\n",
            "Epoch 44/100\n",
            "19/19 [==============================] - 0s 11ms/step - loss: 0.0011 - accuracy: 8.3403e-04\n",
            "Epoch 45/100\n",
            "19/19 [==============================] - 0s 12ms/step - loss: 0.0011 - accuracy: 8.3403e-04\n",
            "Epoch 46/100\n",
            "19/19 [==============================] - 0s 10ms/step - loss: 9.9258e-04 - accuracy: 8.3403e-04\n",
            "Epoch 47/100\n",
            "19/19 [==============================] - 0s 11ms/step - loss: 0.0011 - accuracy: 8.3403e-04\n",
            "Epoch 48/100\n",
            "19/19 [==============================] - 0s 11ms/step - loss: 8.2624e-04 - accuracy: 8.3403e-04\n",
            "Epoch 49/100\n",
            "19/19 [==============================] - 0s 11ms/step - loss: 9.2433e-04 - accuracy: 8.3403e-04\n",
            "Epoch 50/100\n",
            "19/19 [==============================] - 0s 11ms/step - loss: 0.0010 - accuracy: 8.3403e-04\n",
            "Epoch 51/100\n",
            "19/19 [==============================] - 0s 11ms/step - loss: 9.5528e-04 - accuracy: 8.3403e-04\n",
            "Epoch 52/100\n",
            "19/19 [==============================] - 0s 11ms/step - loss: 9.6426e-04 - accuracy: 8.3403e-04\n",
            "Epoch 53/100\n",
            "19/19 [==============================] - 0s 11ms/step - loss: 9.5105e-04 - accuracy: 8.3403e-04\n",
            "Epoch 54/100\n",
            "19/19 [==============================] - 0s 11ms/step - loss: 9.3808e-04 - accuracy: 8.3403e-04\n",
            "Epoch 55/100\n",
            "19/19 [==============================] - 0s 12ms/step - loss: 9.2896e-04 - accuracy: 8.3403e-04\n",
            "Epoch 56/100\n",
            "19/19 [==============================] - 0s 11ms/step - loss: 9.0664e-04 - accuracy: 8.3403e-04\n",
            "Epoch 57/100\n",
            "19/19 [==============================] - 0s 11ms/step - loss: 9.1262e-04 - accuracy: 8.3403e-04\n",
            "Epoch 58/100\n",
            "19/19 [==============================] - 0s 10ms/step - loss: 7.7599e-04 - accuracy: 8.3403e-04\n",
            "Epoch 59/100\n",
            "19/19 [==============================] - 0s 11ms/step - loss: 9.6316e-04 - accuracy: 8.3403e-04\n",
            "Epoch 60/100\n",
            "19/19 [==============================] - 0s 11ms/step - loss: 8.6888e-04 - accuracy: 8.3403e-04\n",
            "Epoch 61/100\n",
            "19/19 [==============================] - 0s 11ms/step - loss: 7.8448e-04 - accuracy: 8.3403e-04\n",
            "Epoch 62/100\n",
            "19/19 [==============================] - 0s 11ms/step - loss: 9.0139e-04 - accuracy: 8.3403e-04\n",
            "Epoch 63/100\n",
            "19/19 [==============================] - 0s 11ms/step - loss: 8.1068e-04 - accuracy: 8.3403e-04\n",
            "Epoch 64/100\n",
            "19/19 [==============================] - 0s 13ms/step - loss: 8.6112e-04 - accuracy: 8.3403e-04\n",
            "Epoch 65/100\n",
            "19/19 [==============================] - 0s 11ms/step - loss: 7.6646e-04 - accuracy: 8.3403e-04\n",
            "Epoch 66/100\n",
            "19/19 [==============================] - 0s 11ms/step - loss: 8.2852e-04 - accuracy: 8.3403e-04\n",
            "Epoch 67/100\n",
            "19/19 [==============================] - 0s 11ms/step - loss: 9.6219e-04 - accuracy: 8.3403e-04\n",
            "Epoch 68/100\n",
            "19/19 [==============================] - 0s 11ms/step - loss: 7.8288e-04 - accuracy: 8.3403e-04\n",
            "Epoch 69/100\n",
            "19/19 [==============================] - 0s 12ms/step - loss: 7.4597e-04 - accuracy: 8.3403e-04\n",
            "Epoch 70/100\n",
            "19/19 [==============================] - 0s 11ms/step - loss: 8.8945e-04 - accuracy: 8.3403e-04\n",
            "Epoch 71/100\n",
            "19/19 [==============================] - 0s 11ms/step - loss: 7.0023e-04 - accuracy: 8.3403e-04\n",
            "Epoch 72/100\n",
            "19/19 [==============================] - 0s 11ms/step - loss: 8.9094e-04 - accuracy: 8.3403e-04\n",
            "Epoch 73/100\n",
            "19/19 [==============================] - 0s 11ms/step - loss: 7.1286e-04 - accuracy: 8.3403e-04\n",
            "Epoch 74/100\n",
            "19/19 [==============================] - 0s 12ms/step - loss: 8.3682e-04 - accuracy: 8.3403e-04\n",
            "Epoch 75/100\n",
            "19/19 [==============================] - 0s 11ms/step - loss: 7.6496e-04 - accuracy: 8.3403e-04\n",
            "Epoch 76/100\n",
            "19/19 [==============================] - 0s 11ms/step - loss: 8.3857e-04 - accuracy: 8.3403e-04\n",
            "Epoch 77/100\n",
            "19/19 [==============================] - 0s 17ms/step - loss: 7.0379e-04 - accuracy: 8.3403e-04\n",
            "Epoch 78/100\n",
            "19/19 [==============================] - 0s 18ms/step - loss: 7.6256e-04 - accuracy: 8.3403e-04\n",
            "Epoch 79/100\n",
            "19/19 [==============================] - 0s 16ms/step - loss: 7.2295e-04 - accuracy: 8.3403e-04\n",
            "Epoch 80/100\n",
            "19/19 [==============================] - 0s 17ms/step - loss: 6.5499e-04 - accuracy: 8.3403e-04\n",
            "Epoch 81/100\n",
            "19/19 [==============================] - 0s 18ms/step - loss: 7.1381e-04 - accuracy: 8.3403e-04\n",
            "Epoch 82/100\n",
            "19/19 [==============================] - 0s 17ms/step - loss: 7.0428e-04 - accuracy: 8.3403e-04\n",
            "Epoch 83/100\n",
            "19/19 [==============================] - 0s 18ms/step - loss: 7.3341e-04 - accuracy: 8.3403e-04\n",
            "Epoch 84/100\n",
            "19/19 [==============================] - 0s 18ms/step - loss: 6.0039e-04 - accuracy: 8.3403e-04\n",
            "Epoch 85/100\n",
            "19/19 [==============================] - 0s 18ms/step - loss: 6.9713e-04 - accuracy: 8.3403e-04\n",
            "Epoch 86/100\n",
            "19/19 [==============================] - 0s 15ms/step - loss: 6.9452e-04 - accuracy: 8.3403e-04\n",
            "Epoch 87/100\n",
            "19/19 [==============================] - 0s 11ms/step - loss: 6.9223e-04 - accuracy: 8.3403e-04\n",
            "Epoch 88/100\n",
            "19/19 [==============================] - 0s 12ms/step - loss: 6.3503e-04 - accuracy: 8.3403e-04\n",
            "Epoch 89/100\n",
            "19/19 [==============================] - 0s 11ms/step - loss: 6.7137e-04 - accuracy: 8.3403e-04\n",
            "Epoch 90/100\n",
            "19/19 [==============================] - 0s 11ms/step - loss: 6.6269e-04 - accuracy: 8.3403e-04\n",
            "Epoch 91/100\n",
            "19/19 [==============================] - 0s 11ms/step - loss: 7.4512e-04 - accuracy: 8.3403e-04\n",
            "Epoch 92/100\n",
            "19/19 [==============================] - 0s 11ms/step - loss: 6.1595e-04 - accuracy: 8.3403e-04\n",
            "Epoch 93/100\n",
            "19/19 [==============================] - 0s 10ms/step - loss: 6.3340e-04 - accuracy: 8.3403e-04\n",
            "Epoch 94/100\n",
            "19/19 [==============================] - 0s 11ms/step - loss: 5.9214e-04 - accuracy: 8.3403e-04\n",
            "Epoch 95/100\n",
            "19/19 [==============================] - 0s 12ms/step - loss: 5.7289e-04 - accuracy: 8.3403e-04\n",
            "Epoch 96/100\n",
            "19/19 [==============================] - 0s 11ms/step - loss: 6.2033e-04 - accuracy: 8.3403e-04\n",
            "Epoch 97/100\n",
            "19/19 [==============================] - 0s 11ms/step - loss: 6.6034e-04 - accuracy: 8.3403e-04\n",
            "Epoch 98/100\n",
            "19/19 [==============================] - 0s 11ms/step - loss: 5.9300e-04 - accuracy: 8.3403e-04\n",
            "Epoch 99/100\n",
            "19/19 [==============================] - 0s 11ms/step - loss: 5.8151e-04 - accuracy: 8.3403e-04\n",
            "Epoch 100/100\n",
            "19/19 [==============================] - 0s 10ms/step - loss: 5.3744e-04 - accuracy: 8.3403e-04\n"
          ]
        },
        {
          "output_type": "execute_result",
          "data": {
            "text/plain": [
              "<keras.src.callbacks.History at 0x7ed5c8f398d0>"
            ]
          },
          "metadata": {},
          "execution_count": 31
        }
      ]
    },
    {
      "cell_type": "code",
      "source": [
        "dataset_test = pd.read_csv('/content/testset (1).csv')\n",
        "test_set = dataset_test.iloc[:,1:2].values\n",
        "test_set.shape\n"
      ],
      "metadata": {
        "id": "b_G1KkIS9-Lp",
        "colab": {
          "base_uri": "https://localhost:8080/"
        },
        "outputId": "a730dccf-48c3-4023-fd0a-4de6e9e06a69"
      },
      "execution_count": 32,
      "outputs": [
        {
          "output_type": "execute_result",
          "data": {
            "text/plain": [
              "(125, 1)"
            ]
          },
          "metadata": {},
          "execution_count": 32
        }
      ]
    },
    {
      "cell_type": "code",
      "source": [
        "dataset_total = pd.concat((dataset_train['Open'],dataset_test['Open']),axis=0)\n",
        "inputs = dataset_total.values\n",
        "inputs = inputs.reshape(-1,1)\n",
        "inputs_scaled=sc.transform(inputs)\n",
        "X_test = []\n",
        "for i in range(60,1384):\n",
        "  X_test.append(inputs_scaled[i-60:i,0])\n",
        "X_test = np.array(X_test)\n",
        "X_test = np.reshape(X_test,(X_test.shape[0], X_test.shape[1],1))\n",
        "X_test.shape"
      ],
      "metadata": {
        "id": "HETXYRT0-CHf",
        "colab": {
          "base_uri": "https://localhost:8080/"
        },
        "outputId": "32f4d2f5-3d71-4f53-fcf9-08d91c4ba232"
      },
      "execution_count": 34,
      "outputs": [
        {
          "output_type": "execute_result",
          "data": {
            "text/plain": [
              "(1324, 60, 1)"
            ]
          },
          "metadata": {},
          "execution_count": 34
        }
      ]
    },
    {
      "cell_type": "code",
      "source": [
        "print(\"S.ABHISHEK 212221230002\")\n",
        "predicted_stock_price_scaled = model.predict(X_test)\n",
        "predicted_stock_price = sc.inverse_transform(predicted_stock_price_scaled)\n",
        "plt.plot(np.arange(0,1384),inputs, color='black', label = 'Test(Real) Google stock price')\n",
        "plt.plot(np.arange(60,1384),predicted_stock_price, color='blue', label = 'Predicted Google stock price')\n",
        "plt.title('Google Stock Price Prediction')\n",
        "plt.xlabel('Time')\n",
        "plt.ylabel('Google Stock Price')\n",
        "plt.legend()\n",
        "plt.show()"
      ],
      "metadata": {
        "id": "q_ECpK6M-FwW",
        "colab": {
          "base_uri": "https://localhost:8080/",
          "height": 507
        },
        "outputId": "ae681942-32f1-4f5c-afe9-f00bbf2bdb3f"
      },
      "execution_count": 36,
      "outputs": [
        {
          "output_type": "stream",
          "name": "stdout",
          "text": [
            "S.ABHISHEK 212221230002\n",
            "42/42 [==============================] - 0s 10ms/step\n"
          ]
        },
        {
          "output_type": "display_data",
          "data": {
            "text/plain": [
              "<Figure size 640x480 with 1 Axes>"
            ],
            "image/png": "[encoded data removed]"
          },
          "metadata": {}
        }
      ]
    }
  ]
}